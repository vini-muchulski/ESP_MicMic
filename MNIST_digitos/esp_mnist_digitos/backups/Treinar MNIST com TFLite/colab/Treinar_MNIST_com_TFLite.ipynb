{
  "nbformat": 4,
  "nbformat_minor": 0,
  "metadata": {
    "colab": {
      "provenance": [],
      "gpuType": "T4"
    },
    "kernelspec": {
      "name": "python3",
      "display_name": "Python 3"
    },
    "language_info": {
      "name": "python"
    },
    "accelerator": "GPU"
  },
  "cells": [
    {
      "cell_type": "code",
      "execution_count": 1,
      "metadata": {
        "colab": {
          "base_uri": "https://localhost:8080/"
        },
        "id": "RDfVpfOZOzy1",
        "outputId": "0a52a753-5d31-468f-e1bb-aa10cad50137"
      },
      "outputs": [
        {
          "output_type": "stream",
          "name": "stdout",
          "text": [
            "Downloading data from https://storage.googleapis.com/tensorflow/tf-keras-datasets/mnist.npz\n",
            "\u001b[1m11490434/11490434\u001b[0m \u001b[32m━━━━━━━━━━━━━━━━━━━━\u001b[0m\u001b[37m\u001b[0m \u001b[1m2s\u001b[0m 0us/step\n"
          ]
        }
      ],
      "source": [
        "import tensorflow as tf\n",
        "import numpy as np\n",
        "\n",
        "# 1. Dados ────────────────────────────────────────────────────────────────\n",
        "(x_train, y_train), (x_test, y_test) = tf.keras.datasets.mnist.load_data()\n",
        "x_train, x_test = x_train / 255.0, x_test / 255.0          # normaliza\n",
        "x_train = x_train[..., None].astype(\"float32\")             # (28,28)→(28,28,1)\n",
        "x_test  = x_test[..., None].astype(\"float32\")"
      ]
    },
    {
      "cell_type": "code",
      "source": [
        "import matplotlib.pyplot as plt\n",
        "import random\n",
        "\n",
        "# Supondo que x_train e y_train já existam (já normalizados como float32 e com shape (28,28,1))\n",
        "# 1. Escolhe um índice aleatório\n",
        "idx = random.randint(0, x_train.shape[0] - 1)\n",
        "\n",
        "# 2. Recupera a imagem e o rótulo\n",
        "img = x_train[idx].squeeze()      # squeeze() transforma (28,28,1) em (28,28)\n",
        "label = y_train[idx]\n",
        "\n",
        "# 3. Plota\n",
        "plt.figure(figsize=(4,4))\n",
        "plt.imshow(img, cmap='gray')\n",
        "plt.title(f\"Rótulo: {label}\")\n",
        "plt.axis('off')   # desliga os eixos para ficar mais limpo\n",
        "plt.show()\n"
      ],
      "metadata": {
        "colab": {
          "base_uri": "https://localhost:8080/",
          "height": 367
        },
        "id": "fO1ZamD8Pgqp",
        "outputId": "baefc123-b666-49a2-f04f-cb5034593ce3"
      },
      "execution_count": 5,
      "outputs": [
        {
          "output_type": "display_data",
          "data": {
            "text/plain": [
              "<Figure size 400x400 with 1 Axes>"
            ],
            "image/png": "[encoded data removed]"
          },
          "metadata": {}
        }
      ]
    },
    {
      "cell_type": "markdown",
      "source": [
        "# Treino Modelo"
      ],
      "metadata": {
        "id": "jNcS1vaEO_FM"
      }
    },
    {
      "cell_type": "code",
      "source": [
        "model = tf.keras.Sequential([\n",
        "    tf.keras.layers.Input((28, 28, 1)),\n",
        "    tf.keras.layers.Conv2D(32, 3, activation=\"relu\"),\n",
        "    tf.keras.layers.MaxPool2D(),\n",
        "    tf.keras.layers.Conv2D(64, 3, activation=\"relu\"),\n",
        "    tf.keras.layers.MaxPool2D(),\n",
        "    tf.keras.layers.Flatten(),\n",
        "    tf.keras.layers.Dense(128, activation=\"relu\"),\n",
        "    tf.keras.layers.Dense(10, activation=\"softmax\")\n",
        "])\n",
        "model.compile(optimizer=\"adam\",\n",
        "              loss=\"sparse_categorical_crossentropy\",\n",
        "              metrics=[\"accuracy\"])"
      ],
      "metadata": {
        "id": "bew8SRJtO5Aj"
      },
      "execution_count": 2,
      "outputs": []
    },
    {
      "cell_type": "code",
      "source": [
        "model.fit(x_train, y_train,\n",
        "          epochs=5, batch_size=128,\n",
        "          validation_split=0.1)"
      ],
      "metadata": {
        "colab": {
          "base_uri": "https://localhost:8080/"
        },
        "id": "qQ63PoeAPE_H",
        "outputId": "c25ce1de-4df9-447e-e01a-a44ee0d6f5a6"
      },
      "execution_count": 3,
      "outputs": [
        {
          "output_type": "stream",
          "name": "stdout",
          "text": [
            "Epoch 1/5\n",
            "\u001b[1m422/422\u001b[0m \u001b[32m━━━━━━━━━━━━━━━━━━━━\u001b[0m\u001b[37m\u001b[0m \u001b[1m9s\u001b[0m 11ms/step - accuracy: 0.8475 - loss: 0.5190 - val_accuracy: 0.9802 - val_loss: 0.0637\n",
            "Epoch 2/5\n",
            "\u001b[1m422/422\u001b[0m \u001b[32m━━━━━━━━━━━━━━━━━━━━\u001b[0m\u001b[37m\u001b[0m \u001b[1m5s\u001b[0m 4ms/step - accuracy: 0.9805 - loss: 0.0628 - val_accuracy: 0.9863 - val_loss: 0.0469\n",
            "Epoch 3/5\n",
            "\u001b[1m422/422\u001b[0m \u001b[32m━━━━━━━━━━━━━━━━━━━━\u001b[0m\u001b[37m\u001b[0m \u001b[1m2s\u001b[0m 4ms/step - accuracy: 0.9876 - loss: 0.0402 - val_accuracy: 0.9852 - val_loss: 0.0502\n",
            "Epoch 4/5\n",
            "\u001b[1m422/422\u001b[0m \u001b[32m━━━━━━━━━━━━━━━━━━━━\u001b[0m\u001b[37m\u001b[0m \u001b[1m2s\u001b[0m 5ms/step - accuracy: 0.9898 - loss: 0.0328 - val_accuracy: 0.9877 - val_loss: 0.0369\n",
            "Epoch 5/5\n",
            "\u001b[1m422/422\u001b[0m \u001b[32m━━━━━━━━━━━━━━━━━━━━\u001b[0m\u001b[37m\u001b[0m \u001b[1m2s\u001b[0m 4ms/step - accuracy: 0.9921 - loss: 0.0245 - val_accuracy: 0.9883 - val_loss: 0.0398\n"
          ]
        },
        {
          "output_type": "execute_result",
          "data": {
            "text/plain": [
              "<keras.src.callbacks.history.History at 0x7fc16598d590>"
            ]
          },
          "metadata": {},
          "execution_count": 3
        }
      ]
    },
    {
      "cell_type": "code",
      "source": [
        "loss, acc = model.evaluate(x_test, y_test, verbose=0)\n",
        "print(f\"Acurácia de teste: {acc:.4f}\")"
      ],
      "metadata": {
        "colab": {
          "base_uri": "https://localhost:8080/"
        },
        "id": "c5-VLf4HPmLq",
        "outputId": "a547cc62-ff0e-4206-9cbd-38c9e1f180f5"
      },
      "execution_count": 6,
      "outputs": [
        {
          "output_type": "stream",
          "name": "stdout",
          "text": [
            "Acurácia de teste: 0.9899\n"
          ]
        }
      ]
    },
    {
      "cell_type": "markdown",
      "source": [
        "# Conversão p/ TensorFlow Lite"
      ],
      "metadata": {
        "id": "V2hYnM7ZPrES"
      }
    },
    {
      "cell_type": "code",
      "source": [
        "converter = tf.lite.TFLiteConverter.from_keras_model(model)\n",
        "\n"
      ],
      "metadata": {
        "id": "a7HITC4YPnOu"
      },
      "execution_count": 7,
      "outputs": []
    },
    {
      "cell_type": "code",
      "source": [
        "converter.optimizations = [tf.lite.Optimize.DEFAULT]"
      ],
      "metadata": {
        "id": "m_kYXvBFP0Q1"
      },
      "execution_count": 8,
      "outputs": []
    },
    {
      "cell_type": "code",
      "source": [
        "tflite_model = converter.convert()\n",
        "open(\"mnist_cnn.tflite\", \"wb\").write(tflite_model)\n",
        "print(\"Modelo salvo em mnist_cnn.tflite\")"
      ],
      "metadata": {
        "colab": {
          "base_uri": "https://localhost:8080/"
        },
        "id": "JuMpaqvaPzND",
        "outputId": "b162a383-75c1-47e2-cf95-302b8cfce01b"
      },
      "execution_count": 9,
      "outputs": [
        {
          "output_type": "stream",
          "name": "stdout",
          "text": [
            "Saved artifact at '/tmp/tmpuxhosq_r'. The following endpoints are available:\n",
            "\n",
            "* Endpoint 'serve'\n",
            "  args_0 (POSITIONAL_ONLY): TensorSpec(shape=(None, 28, 28, 1), dtype=tf.float32, name='keras_tensor')\n",
            "Output Type:\n",
            "  TensorSpec(shape=(None, 10), dtype=tf.float32, name=None)\n",
            "Captures:\n",
            "  140468609548368: TensorSpec(shape=(), dtype=tf.resource, name=None)\n",
            "  140468609551824: TensorSpec(shape=(), dtype=tf.resource, name=None)\n",
            "  140468609555280: TensorSpec(shape=(), dtype=tf.resource, name=None)\n",
            "  140468609554128: TensorSpec(shape=(), dtype=tf.resource, name=None)\n",
            "  140468609554320: TensorSpec(shape=(), dtype=tf.resource, name=None)\n",
            "  140468609553936: TensorSpec(shape=(), dtype=tf.resource, name=None)\n",
            "  140468609551440: TensorSpec(shape=(), dtype=tf.resource, name=None)\n",
            "  140468609554704: TensorSpec(shape=(), dtype=tf.resource, name=None)\n",
            "Modelo salvo em mnist_cnn.tflite\n"
          ]
        }
      ]
    },
    {
      "cell_type": "code",
      "source": [
        "# índice da imagem no batch de teste\n",
        "index = 8\n",
        "\n",
        "# prepara o sample e recupera o rótulo verdadeiro\n",
        "sample = x_test[index : index+1]      # shape (1, 28, 28, 1)\n",
        "true_label = y_test[index]            # rótulo “verdadeiro”\n",
        "\n",
        "print(\"Classe verdadeira:\", true_label)\n",
        "\n",
        "# faz inference TFLite\n",
        "interpreter = tf.lite.Interpreter(model_path=\"mnist_cnn.tflite\")\n",
        "#interpreter = tf.lite.Interpreter(model_path=\"mnist_cnn_int8.tflite\")\n",
        "\n",
        "interpreter.allocate_tensors()\n",
        "\n",
        "input_idx  = interpreter.get_input_details()[0][\"index\"]\n",
        "output_idx = interpreter.get_output_details()[0][\"index\"]\n",
        "\n",
        "interpreter.set_tensor(input_idx, sample)\n",
        "interpreter.invoke()\n",
        "pred = interpreter.get_tensor(output_idx)\n",
        "\n",
        "print(\"Dígito previsto:\", np.argmax(pred))\n"
      ],
      "metadata": {
        "colab": {
          "base_uri": "https://localhost:8080/"
        },
        "id": "LViOWRlDP3a2",
        "outputId": "f9096397-ab41-4387-8f90-5356b338b3da"
      },
      "execution_count": 17,
      "outputs": [
        {
          "output_type": "stream",
          "name": "stdout",
          "text": [
            "Classe verdadeira: 5\n",
            "Dígito previsto: 5\n"
          ]
        }
      ]
    },
    {
      "cell_type": "code",
      "source": [
        "def rep_data():\n",
        "    for imgs in tf.data.Dataset.from_tensor_slices(x_train).batch(100).take(100):\n",
        "        yield [imgs]                       # 10 000 amostras ~ suficiente\n",
        "\n",
        "converter = tf.lite.TFLiteConverter.from_keras_model(model)\n",
        "converter.optimizations = [tf.lite.Optimize.DEFAULT]\n",
        "converter.representative_dataset = rep_data          # calibragem\n",
        "converter.target_spec.supported_ops = [tf.lite.OpsSet.TFLITE_BUILTINS_INT8]\n",
        "converter.inference_input_type  = tf.uint8           # ou int8\n",
        "converter.inference_output_type = tf.uint8\n",
        "tflite_quant = converter.convert()\n",
        "open(\"mnist_cnn_int8.tflite\", \"wb\").write(tflite_quant)\n"
      ],
      "metadata": {
        "colab": {
          "base_uri": "https://localhost:8080/"
        },
        "id": "ooomyGfeQKgE",
        "outputId": "67550402-2b8d-496b-ed79-aec3ef68f027"
      },
      "execution_count": 11,
      "outputs": [
        {
          "output_type": "stream",
          "name": "stdout",
          "text": [
            "Saved artifact at '/tmp/tmpqh7b6_06'. The following endpoints are available:\n",
            "\n",
            "* Endpoint 'serve'\n",
            "  args_0 (POSITIONAL_ONLY): TensorSpec(shape=(None, 28, 28, 1), dtype=tf.float32, name='keras_tensor')\n",
            "Output Type:\n",
            "  TensorSpec(shape=(None, 10), dtype=tf.float32, name=None)\n",
            "Captures:\n",
            "  140468609548368: TensorSpec(shape=(), dtype=tf.resource, name=None)\n",
            "  140468609551824: TensorSpec(shape=(), dtype=tf.resource, name=None)\n",
            "  140468609555280: TensorSpec(shape=(), dtype=tf.resource, name=None)\n",
            "  140468609554128: TensorSpec(shape=(), dtype=tf.resource, name=None)\n",
            "  140468609554320: TensorSpec(shape=(), dtype=tf.resource, name=None)\n",
            "  140468609553936: TensorSpec(shape=(), dtype=tf.resource, name=None)\n",
            "  140468609551440: TensorSpec(shape=(), dtype=tf.resource, name=None)\n",
            "  140468609554704: TensorSpec(shape=(), dtype=tf.resource, name=None)\n"
          ]
        },
        {
          "output_type": "stream",
          "name": "stderr",
          "text": [
            "/usr/local/lib/python3.11/dist-packages/tensorflow/lite/python/convert.py:997: UserWarning: Statistics for quantized inputs were expected, but not specified; continuing anyway.\n",
            "  warnings.warn(\n"
          ]
        },
        {
          "output_type": "execute_result",
          "data": {
            "text/plain": [
              "235600"
            ]
          },
          "metadata": {},
          "execution_count": 11
        }
      ]
    }
  ]
}